{
 "cells": [
  {
   "cell_type": "markdown",
   "metadata": {},
   "source": [
    "#  Hotels EDA <br>\n",
    "<p><img src=\"\" alt=\"\" width=\"600px\"></p>\n",
    "\n",
    "\n"
   ]
  },
  {
   "cell_type": "markdown",
   "metadata": {},
   "source": [
    "### Importing Required Libraries"
   ]
  },
  {
   "cell_type": "code",
   "execution_count": 237,
   "metadata": {},
   "outputs": [],
   "source": [
    "import numpy as np\n",
    "import pandas as pd\n",
    "import matplotlib.pyplot as plt\n",
    "import seaborn as sns\n",
    "import warnings\n",
    "warnings.filterwarnings(\"ignore\")\n",
    "%matplotlib inline"
   ]
  },
  {
   "cell_type": "markdown",
   "metadata": {},
   "source": [
    "### **Step1**: Acquire\n",
    "<pre><b> • Explore problem<b> </pre>\n",
    "<pre><b> • Identify data<b> </pre>\n",
    "<pre><b> • Import data<b> </pre>\n",
    "\n",
    "### **Data**\n",
    "#### <pre><b>• Import and read the data</pre>"
   ]
  },
  {
   "cell_type": "code",
   "execution_count": 238,
   "metadata": {},
   "outputs": [
    {
     "data": {
      "text/html": [
       "<div>\n",
       "<style scoped>\n",
       "    .dataframe tbody tr th:only-of-type {\n",
       "        vertical-align: middle;\n",
       "    }\n",
       "\n",
       "    .dataframe tbody tr th {\n",
       "        vertical-align: top;\n",
       "    }\n",
       "\n",
       "    .dataframe thead th {\n",
       "        text-align: right;\n",
       "    }\n",
       "</style>\n",
       "<table border=\"1\" class=\"dataframe\">\n",
       "  <thead>\n",
       "    <tr style=\"text-align: right;\">\n",
       "      <th></th>\n",
       "      <th>Code</th>\n",
       "      <th>Hotel Name</th>\n",
       "      <th>Roomnights</th>\n",
       "      <th>Sale</th>\n",
       "      <th>Cost</th>\n",
       "      <th>Date</th>\n",
       "    </tr>\n",
       "  </thead>\n",
       "  <tbody>\n",
       "    <tr>\n",
       "      <th>0</th>\n",
       "      <td>CODE|87851</td>\n",
       "      <td>Best Western Premier Al Ahsa Grand Hotel &amp; Suites</td>\n",
       "      <td>57</td>\n",
       "      <td>1140</td>\n",
       "      <td>1140</td>\n",
       "      <td>01, 2019</td>\n",
       "    </tr>\n",
       "    <tr>\n",
       "      <th>1</th>\n",
       "      <td>CODE|87816</td>\n",
       "      <td>Best Western Premier Airporthotel Fontane Berlin</td>\n",
       "      <td>1935</td>\n",
       "      <td>50310</td>\n",
       "      <td>38700</td>\n",
       "      <td>08, 2019</td>\n",
       "    </tr>\n",
       "    <tr>\n",
       "      <th>2</th>\n",
       "      <td>CODE|87781</td>\n",
       "      <td>Best Western Premier Agung Resort Ubud</td>\n",
       "      <td>1897</td>\n",
       "      <td>37940</td>\n",
       "      <td>34146</td>\n",
       "      <td>01, 2019</td>\n",
       "    </tr>\n",
       "    <tr>\n",
       "      <th>3</th>\n",
       "      <td>CODE|87746</td>\n",
       "      <td>Best Western Posada Freeman</td>\n",
       "      <td>1294</td>\n",
       "      <td>38820</td>\n",
       "      <td>25880</td>\n",
       "      <td>06, 2019</td>\n",
       "    </tr>\n",
       "    <tr>\n",
       "      <th>4</th>\n",
       "      <td>CODE|87711</td>\n",
       "      <td>Best Western Pony Soldier Inn &amp; Suites</td>\n",
       "      <td>828</td>\n",
       "      <td>22356</td>\n",
       "      <td>13248</td>\n",
       "      <td>12, 2019</td>\n",
       "    </tr>\n",
       "  </tbody>\n",
       "</table>\n",
       "</div>"
      ],
      "text/plain": [
       "         Code                                         Hotel Name  Roomnights  \\\n",
       "0  CODE|87851  Best Western Premier Al Ahsa Grand Hotel & Suites          57   \n",
       "1  CODE|87816   Best Western Premier Airporthotel Fontane Berlin        1935   \n",
       "2  CODE|87781             Best Western Premier Agung Resort Ubud        1897   \n",
       "3  CODE|87746                        Best Western Posada Freeman        1294   \n",
       "4  CODE|87711             Best Western Pony Soldier Inn & Suites         828   \n",
       "\n",
       "    Sale   Cost      Date  \n",
       "0   1140   1140  01, 2019  \n",
       "1  50310  38700  08, 2019  \n",
       "2  37940  34146  01, 2019  \n",
       "3  38820  25880  06, 2019  \n",
       "4  22356  13248  12, 2019  "
      ]
     },
     "execution_count": 238,
     "metadata": {},
     "output_type": "execute_result"
    }
   ],
   "source": [
    "df=pd.read_excel('Hotels.xlsx')\n",
    "df.head()"
   ]
  },
  {
   "cell_type": "code",
   "execution_count": 239,
   "metadata": {},
   "outputs": [
    {
     "data": {
      "text/html": [
       "<div>\n",
       "<style scoped>\n",
       "    .dataframe tbody tr th:only-of-type {\n",
       "        vertical-align: middle;\n",
       "    }\n",
       "\n",
       "    .dataframe tbody tr th {\n",
       "        vertical-align: top;\n",
       "    }\n",
       "\n",
       "    .dataframe thead th {\n",
       "        text-align: right;\n",
       "    }\n",
       "</style>\n",
       "<table border=\"1\" class=\"dataframe\">\n",
       "  <thead>\n",
       "    <tr style=\"text-align: right;\">\n",
       "      <th></th>\n",
       "      <th>Roomnights</th>\n",
       "      <th>Sale</th>\n",
       "      <th>Cost</th>\n",
       "    </tr>\n",
       "  </thead>\n",
       "  <tbody>\n",
       "    <tr>\n",
       "      <th>count</th>\n",
       "      <td>2509.000000</td>\n",
       "      <td>2509.000000</td>\n",
       "      <td>2509.000000</td>\n",
       "    </tr>\n",
       "    <tr>\n",
       "      <th>mean</th>\n",
       "      <td>1000.293344</td>\n",
       "      <td>25067.133121</td>\n",
       "      <td>17548.681148</td>\n",
       "    </tr>\n",
       "    <tr>\n",
       "      <th>std</th>\n",
       "      <td>575.654901</td>\n",
       "      <td>14896.844284</td>\n",
       "      <td>10294.119112</td>\n",
       "    </tr>\n",
       "    <tr>\n",
       "      <th>min</th>\n",
       "      <td>1.000000</td>\n",
       "      <td>28.000000</td>\n",
       "      <td>16.000000</td>\n",
       "    </tr>\n",
       "    <tr>\n",
       "      <th>25%</th>\n",
       "      <td>502.000000</td>\n",
       "      <td>12425.000000</td>\n",
       "      <td>8672.000000</td>\n",
       "    </tr>\n",
       "    <tr>\n",
       "      <th>50%</th>\n",
       "      <td>1002.000000</td>\n",
       "      <td>24648.000000</td>\n",
       "      <td>17480.000000</td>\n",
       "    </tr>\n",
       "    <tr>\n",
       "      <th>75%</th>\n",
       "      <td>1500.000000</td>\n",
       "      <td>37044.000000</td>\n",
       "      <td>25965.000000</td>\n",
       "    </tr>\n",
       "    <tr>\n",
       "      <th>max</th>\n",
       "      <td>1999.000000</td>\n",
       "      <td>59130.000000</td>\n",
       "      <td>39720.000000</td>\n",
       "    </tr>\n",
       "  </tbody>\n",
       "</table>\n",
       "</div>"
      ],
      "text/plain": [
       "        Roomnights          Sale          Cost\n",
       "count  2509.000000   2509.000000   2509.000000\n",
       "mean   1000.293344  25067.133121  17548.681148\n",
       "std     575.654901  14896.844284  10294.119112\n",
       "min       1.000000     28.000000     16.000000\n",
       "25%     502.000000  12425.000000   8672.000000\n",
       "50%    1002.000000  24648.000000  17480.000000\n",
       "75%    1500.000000  37044.000000  25965.000000\n",
       "max    1999.000000  59130.000000  39720.000000"
      ]
     },
     "execution_count": 239,
     "metadata": {},
     "output_type": "execute_result"
    }
   ],
   "source": [
    "df.describe()"
   ]
  },
  {
   "cell_type": "markdown",
   "metadata": {},
   "source": [
    "### **Step2**: Prepare & Preprocessing\n",
    "<pre><b> • Explore data<b> </pre>\n",
    "<pre><b> • Visualize ideas<b> </pre>\n",
    "<pre><b> • Cleaning data<b> </pre>\n"
   ]
  },
  {
   "cell_type": "code",
   "execution_count": 240,
   "metadata": {},
   "outputs": [
    {
     "data": {
      "text/plain": [
       "Code          0\n",
       "Hotel Name    0\n",
       "Roomnights    0\n",
       "Sale          0\n",
       "Cost          0\n",
       "Date          0\n",
       "dtype: int64"
      ]
     },
     "execution_count": 240,
     "metadata": {},
     "output_type": "execute_result"
    }
   ],
   "source": [
    "df.isna().sum()"
   ]
  },
  {
   "cell_type": "code",
   "execution_count": 241,
   "metadata": {},
   "outputs": [
    {
     "data": {
      "text/html": [
       "<div>\n",
       "<style scoped>\n",
       "    .dataframe tbody tr th:only-of-type {\n",
       "        vertical-align: middle;\n",
       "    }\n",
       "\n",
       "    .dataframe tbody tr th {\n",
       "        vertical-align: top;\n",
       "    }\n",
       "\n",
       "    .dataframe thead th {\n",
       "        text-align: right;\n",
       "    }\n",
       "</style>\n",
       "<table border=\"1\" class=\"dataframe\">\n",
       "  <thead>\n",
       "    <tr style=\"text-align: right;\">\n",
       "      <th></th>\n",
       "      <th>Code</th>\n",
       "      <th>Hotel Name</th>\n",
       "      <th>Roomnights</th>\n",
       "      <th>Sale</th>\n",
       "      <th>Cost</th>\n",
       "      <th>Date</th>\n",
       "    </tr>\n",
       "  </thead>\n",
       "  <tbody>\n",
       "    <tr>\n",
       "      <th>0</th>\n",
       "      <td>87851</td>\n",
       "      <td>Best Western Premier Al Ahsa Grand Hotel &amp; Suites</td>\n",
       "      <td>57</td>\n",
       "      <td>1140</td>\n",
       "      <td>1140</td>\n",
       "      <td>01, 2019</td>\n",
       "    </tr>\n",
       "    <tr>\n",
       "      <th>1</th>\n",
       "      <td>87816</td>\n",
       "      <td>Best Western Premier Airporthotel Fontane Berlin</td>\n",
       "      <td>1935</td>\n",
       "      <td>50310</td>\n",
       "      <td>38700</td>\n",
       "      <td>08, 2019</td>\n",
       "    </tr>\n",
       "    <tr>\n",
       "      <th>2</th>\n",
       "      <td>87781</td>\n",
       "      <td>Best Western Premier Agung Resort Ubud</td>\n",
       "      <td>1897</td>\n",
       "      <td>37940</td>\n",
       "      <td>34146</td>\n",
       "      <td>01, 2019</td>\n",
       "    </tr>\n",
       "    <tr>\n",
       "      <th>3</th>\n",
       "      <td>87746</td>\n",
       "      <td>Best Western Posada Freeman</td>\n",
       "      <td>1294</td>\n",
       "      <td>38820</td>\n",
       "      <td>25880</td>\n",
       "      <td>06, 2019</td>\n",
       "    </tr>\n",
       "    <tr>\n",
       "      <th>4</th>\n",
       "      <td>87711</td>\n",
       "      <td>Best Western Pony Soldier Inn &amp; Suites</td>\n",
       "      <td>828</td>\n",
       "      <td>22356</td>\n",
       "      <td>13248</td>\n",
       "      <td>12, 2019</td>\n",
       "    </tr>\n",
       "  </tbody>\n",
       "</table>\n",
       "</div>"
      ],
      "text/plain": [
       "    Code                                         Hotel Name  Roomnights  \\\n",
       "0  87851  Best Western Premier Al Ahsa Grand Hotel & Suites          57   \n",
       "1  87816   Best Western Premier Airporthotel Fontane Berlin        1935   \n",
       "2  87781             Best Western Premier Agung Resort Ubud        1897   \n",
       "3  87746                        Best Western Posada Freeman        1294   \n",
       "4  87711             Best Western Pony Soldier Inn & Suites         828   \n",
       "\n",
       "    Sale   Cost      Date  \n",
       "0   1140   1140  01, 2019  \n",
       "1  50310  38700  08, 2019  \n",
       "2  37940  34146  01, 2019  \n",
       "3  38820  25880  06, 2019  \n",
       "4  22356  13248  12, 2019  "
      ]
     },
     "execution_count": 241,
     "metadata": {},
     "output_type": "execute_result"
    }
   ],
   "source": [
    "#Edit code column \n",
    "for i in range(len(df['Code'])): \n",
    "    df['Code'][i]=int(df['Code'][i].split('|')[1])\n",
    "df.head()"
   ]
  },
  {
   "cell_type": "code",
   "execution_count": 242,
   "metadata": {},
   "outputs": [
    {
     "data": {
      "text/html": [
       "<div>\n",
       "<style scoped>\n",
       "    .dataframe tbody tr th:only-of-type {\n",
       "        vertical-align: middle;\n",
       "    }\n",
       "\n",
       "    .dataframe tbody tr th {\n",
       "        vertical-align: top;\n",
       "    }\n",
       "\n",
       "    .dataframe thead th {\n",
       "        text-align: right;\n",
       "    }\n",
       "</style>\n",
       "<table border=\"1\" class=\"dataframe\">\n",
       "  <thead>\n",
       "    <tr style=\"text-align: right;\">\n",
       "      <th></th>\n",
       "      <th>Code</th>\n",
       "      <th>Hotel Name</th>\n",
       "      <th>Roomnights</th>\n",
       "      <th>Sale</th>\n",
       "      <th>Cost</th>\n",
       "      <th>Date</th>\n",
       "      <th>Roomnights Class</th>\n",
       "    </tr>\n",
       "  </thead>\n",
       "  <tbody>\n",
       "    <tr>\n",
       "      <th>0</th>\n",
       "      <td>87851</td>\n",
       "      <td>Best Western Premier Al Ahsa Grand Hotel &amp; Suites</td>\n",
       "      <td>57</td>\n",
       "      <td>1140</td>\n",
       "      <td>1140</td>\n",
       "      <td>01, 2019</td>\n",
       "      <td>Low</td>\n",
       "    </tr>\n",
       "    <tr>\n",
       "      <th>1</th>\n",
       "      <td>87816</td>\n",
       "      <td>Best Western Premier Airporthotel Fontane Berlin</td>\n",
       "      <td>1935</td>\n",
       "      <td>50310</td>\n",
       "      <td>38700</td>\n",
       "      <td>08, 2019</td>\n",
       "      <td>High</td>\n",
       "    </tr>\n",
       "    <tr>\n",
       "      <th>2</th>\n",
       "      <td>87781</td>\n",
       "      <td>Best Western Premier Agung Resort Ubud</td>\n",
       "      <td>1897</td>\n",
       "      <td>37940</td>\n",
       "      <td>34146</td>\n",
       "      <td>01, 2019</td>\n",
       "      <td>High</td>\n",
       "    </tr>\n",
       "    <tr>\n",
       "      <th>3</th>\n",
       "      <td>87746</td>\n",
       "      <td>Best Western Posada Freeman</td>\n",
       "      <td>1294</td>\n",
       "      <td>38820</td>\n",
       "      <td>25880</td>\n",
       "      <td>06, 2019</td>\n",
       "      <td>High</td>\n",
       "    </tr>\n",
       "    <tr>\n",
       "      <th>4</th>\n",
       "      <td>87711</td>\n",
       "      <td>Best Western Pony Soldier Inn &amp; Suites</td>\n",
       "      <td>828</td>\n",
       "      <td>22356</td>\n",
       "      <td>13248</td>\n",
       "      <td>12, 2019</td>\n",
       "      <td>Low</td>\n",
       "    </tr>\n",
       "  </tbody>\n",
       "</table>\n",
       "</div>"
      ],
      "text/plain": [
       "    Code                                         Hotel Name  Roomnights  \\\n",
       "0  87851  Best Western Premier Al Ahsa Grand Hotel & Suites          57   \n",
       "1  87816   Best Western Premier Airporthotel Fontane Berlin        1935   \n",
       "2  87781             Best Western Premier Agung Resort Ubud        1897   \n",
       "3  87746                        Best Western Posada Freeman        1294   \n",
       "4  87711             Best Western Pony Soldier Inn & Suites         828   \n",
       "\n",
       "    Sale   Cost      Date Roomnights Class  \n",
       "0   1140   1140  01, 2019              Low  \n",
       "1  50310  38700  08, 2019             High  \n",
       "2  37940  34146  01, 2019             High  \n",
       "3  38820  25880  06, 2019             High  \n",
       "4  22356  13248  12, 2019              Low  "
      ]
     },
     "execution_count": 242,
     "metadata": {},
     "output_type": "execute_result"
    }
   ],
   "source": [
    "#Cluster the data by room nights into three categories: high demand, mid demand, and low demand \n",
    "l=[]\n",
    "for i in range(len(df['Roomnights'])): \n",
    "    if df['Roomnights'][i]<int(df['Roomnights'].describe()['mean']):l.append('Low')\n",
    "    elif df['Roomnights'][i]>int(df['Roomnights'].describe()['mean']):l.append('High')\n",
    "    elif df['Roomnights'][i]==int(df['Roomnights'].describe()['mean']):l.append('Mid')\n",
    "df['Roomnights Class']=l\n",
    "df.head()"
   ]
  },
  {
   "cell_type": "code",
   "execution_count": 243,
   "metadata": {},
   "outputs": [
    {
     "data": {
      "text/html": [
       "<div>\n",
       "<style scoped>\n",
       "    .dataframe tbody tr th:only-of-type {\n",
       "        vertical-align: middle;\n",
       "    }\n",
       "\n",
       "    .dataframe tbody tr th {\n",
       "        vertical-align: top;\n",
       "    }\n",
       "\n",
       "    .dataframe thead th {\n",
       "        text-align: right;\n",
       "    }\n",
       "</style>\n",
       "<table border=\"1\" class=\"dataframe\">\n",
       "  <thead>\n",
       "    <tr style=\"text-align: right;\">\n",
       "      <th></th>\n",
       "      <th>Code</th>\n",
       "      <th>Hotel Name</th>\n",
       "      <th>Roomnights</th>\n",
       "      <th>Sale</th>\n",
       "      <th>Cost</th>\n",
       "      <th>Date</th>\n",
       "      <th>Roomnights Class</th>\n",
       "    </tr>\n",
       "  </thead>\n",
       "  <tbody>\n",
       "    <tr>\n",
       "      <th>32</th>\n",
       "      <td>86766</td>\n",
       "      <td>Best Western Plus Suites Hotel</td>\n",
       "      <td>1302</td>\n",
       "      <td>26040</td>\n",
       "      <td>19530</td>\n",
       "      <td>09, 2019</td>\n",
       "      <td>High</td>\n",
       "    </tr>\n",
       "    <tr>\n",
       "      <th>34</th>\n",
       "      <td>86731</td>\n",
       "      <td>Best Western Plus Suitcase Paris La Défense</td>\n",
       "      <td>1900</td>\n",
       "      <td>45600</td>\n",
       "      <td>30400</td>\n",
       "      <td>05, 2019</td>\n",
       "      <td>High</td>\n",
       "    </tr>\n",
       "    <tr>\n",
       "      <th>36</th>\n",
       "      <td>86696</td>\n",
       "      <td>Best Western Plus Stovall's Inn</td>\n",
       "      <td>1313</td>\n",
       "      <td>38077</td>\n",
       "      <td>23634</td>\n",
       "      <td>02, 2019</td>\n",
       "      <td>High</td>\n",
       "    </tr>\n",
       "    <tr>\n",
       "      <th>164</th>\n",
       "      <td>82251</td>\n",
       "      <td>BEST WESTERN PLUS Executive Hotel and Suites</td>\n",
       "      <td>793</td>\n",
       "      <td>18239</td>\n",
       "      <td>15067</td>\n",
       "      <td>02, 2019</td>\n",
       "      <td>Low</td>\n",
       "    </tr>\n",
       "    <tr>\n",
       "      <th>166</th>\n",
       "      <td>82216</td>\n",
       "      <td>Best Western Plus Executive Court Inn &amp; Confer...</td>\n",
       "      <td>435</td>\n",
       "      <td>9570</td>\n",
       "      <td>8700</td>\n",
       "      <td>05, 2019</td>\n",
       "      <td>Low</td>\n",
       "    </tr>\n",
       "    <tr>\n",
       "      <th>2232</th>\n",
       "      <td>9556</td>\n",
       "      <td>AC Hotel Paris Porte Maillot</td>\n",
       "      <td>473</td>\n",
       "      <td>12771</td>\n",
       "      <td>8041</td>\n",
       "      <td>07, 2019</td>\n",
       "      <td>Low</td>\n",
       "    </tr>\n",
       "    <tr>\n",
       "      <th>2234</th>\n",
       "      <td>9521</td>\n",
       "      <td>AC Hotel Palencia</td>\n",
       "      <td>194</td>\n",
       "      <td>5820</td>\n",
       "      <td>2910</td>\n",
       "      <td>10, 2019</td>\n",
       "      <td>Low</td>\n",
       "    </tr>\n",
       "    <tr>\n",
       "      <th>2236</th>\n",
       "      <td>9486</td>\n",
       "      <td>AC Hotel Palau de Bellavista</td>\n",
       "      <td>759</td>\n",
       "      <td>18975</td>\n",
       "      <td>12903</td>\n",
       "      <td>11, 2019</td>\n",
       "      <td>Low</td>\n",
       "    </tr>\n",
       "    <tr>\n",
       "      <th>2481</th>\n",
       "      <td>946</td>\n",
       "      <td>Conrad Koh Samui Residences</td>\n",
       "      <td>1100</td>\n",
       "      <td>29700</td>\n",
       "      <td>20900</td>\n",
       "      <td>02, 2019</td>\n",
       "      <td>High</td>\n",
       "    </tr>\n",
       "  </tbody>\n",
       "</table>\n",
       "</div>"
      ],
      "text/plain": [
       "       Code                                         Hotel Name  Roomnights  \\\n",
       "32    86766                     Best Western Plus Suites Hotel        1302   \n",
       "34    86731        Best Western Plus Suitcase Paris La Défense        1900   \n",
       "36    86696                    Best Western Plus Stovall's Inn        1313   \n",
       "164   82251       BEST WESTERN PLUS Executive Hotel and Suites         793   \n",
       "166   82216  Best Western Plus Executive Court Inn & Confer...         435   \n",
       "2232   9556                       AC Hotel Paris Porte Maillot         473   \n",
       "2234   9521                                  AC Hotel Palencia         194   \n",
       "2236   9486                       AC Hotel Palau de Bellavista         759   \n",
       "2481    946                        Conrad Koh Samui Residences        1100   \n",
       "\n",
       "       Sale   Cost      Date Roomnights Class  \n",
       "32    26040  19530  09, 2019             High  \n",
       "34    45600  30400  05, 2019             High  \n",
       "36    38077  23634  02, 2019             High  \n",
       "164   18239  15067  02, 2019              Low  \n",
       "166    9570   8700  05, 2019              Low  \n",
       "2232  12771   8041  07, 2019              Low  \n",
       "2234   5820   2910  10, 2019              Low  \n",
       "2236  18975  12903  11, 2019              Low  \n",
       "2481  29700  20900  02, 2019             High  "
      ]
     },
     "execution_count": 243,
     "metadata": {},
     "output_type": "execute_result"
    }
   ],
   "source": [
    "df[df.duplicated()==True]"
   ]
  },
  {
   "cell_type": "code",
   "execution_count": 244,
   "metadata": {},
   "outputs": [],
   "source": [
    "#Remove duplicated columns\n",
    "df.drop_duplicates(inplace=True)"
   ]
  },
  {
   "cell_type": "code",
   "execution_count": 245,
   "metadata": {},
   "outputs": [
    {
     "data": {
      "text/plain": [
       "0"
      ]
     },
     "execution_count": 245,
     "metadata": {},
     "output_type": "execute_result"
    }
   ],
   "source": [
    "df.duplicated().sum()"
   ]
  },
  {
   "cell_type": "code",
   "execution_count": 246,
   "metadata": {},
   "outputs": [
    {
     "data": {
      "text/plain": [
       "(2500, 7)"
      ]
     },
     "execution_count": 246,
     "metadata": {},
     "output_type": "execute_result"
    }
   ],
   "source": [
    "df.shape"
   ]
  },
  {
   "cell_type": "code",
   "execution_count": 247,
   "metadata": {},
   "outputs": [
    {
     "name": "stdout",
     "output_type": "stream",
     "text": [
      "<class 'pandas.core.frame.DataFrame'>\n",
      "Int64Index: 2500 entries, 0 to 2508\n",
      "Data columns (total 7 columns):\n",
      " #   Column            Non-Null Count  Dtype \n",
      "---  ------            --------------  ----- \n",
      " 0   Code              2500 non-null   object\n",
      " 1   Hotel Name        2500 non-null   object\n",
      " 2   Roomnights        2500 non-null   int64 \n",
      " 3   Sale              2500 non-null   int64 \n",
      " 4   Cost              2500 non-null   int64 \n",
      " 5   Date              2500 non-null   object\n",
      " 6   Roomnights Class  2500 non-null   object\n",
      "dtypes: int64(3), object(4)\n",
      "memory usage: 156.2+ KB\n"
     ]
    }
   ],
   "source": [
    "df.info()"
   ]
  },
  {
   "cell_type": "code",
   "execution_count": 248,
   "metadata": {},
   "outputs": [
    {
     "data": {
      "text/html": [
       "<div>\n",
       "<style scoped>\n",
       "    .dataframe tbody tr th:only-of-type {\n",
       "        vertical-align: middle;\n",
       "    }\n",
       "\n",
       "    .dataframe tbody tr th {\n",
       "        vertical-align: top;\n",
       "    }\n",
       "\n",
       "    .dataframe thead th {\n",
       "        text-align: right;\n",
       "    }\n",
       "</style>\n",
       "<table border=\"1\" class=\"dataframe\">\n",
       "  <thead>\n",
       "    <tr style=\"text-align: right;\">\n",
       "      <th></th>\n",
       "      <th>Code</th>\n",
       "      <th>Hotel Name</th>\n",
       "      <th>Roomnights</th>\n",
       "      <th>Sale</th>\n",
       "      <th>Cost</th>\n",
       "      <th>Date</th>\n",
       "      <th>Roomnights Class</th>\n",
       "    </tr>\n",
       "  </thead>\n",
       "  <tbody>\n",
       "    <tr>\n",
       "      <th>0</th>\n",
       "      <td>87851</td>\n",
       "      <td>Best Western Premier Al Ahsa Grand Hotel &amp; Suites</td>\n",
       "      <td>57</td>\n",
       "      <td>1140</td>\n",
       "      <td>1140</td>\n",
       "      <td>2019-01</td>\n",
       "      <td>Low</td>\n",
       "    </tr>\n",
       "    <tr>\n",
       "      <th>1</th>\n",
       "      <td>87816</td>\n",
       "      <td>Best Western Premier Airporthotel Fontane Berlin</td>\n",
       "      <td>1935</td>\n",
       "      <td>50310</td>\n",
       "      <td>38700</td>\n",
       "      <td>2019-08</td>\n",
       "      <td>High</td>\n",
       "    </tr>\n",
       "    <tr>\n",
       "      <th>2</th>\n",
       "      <td>87781</td>\n",
       "      <td>Best Western Premier Agung Resort Ubud</td>\n",
       "      <td>1897</td>\n",
       "      <td>37940</td>\n",
       "      <td>34146</td>\n",
       "      <td>2019-01</td>\n",
       "      <td>High</td>\n",
       "    </tr>\n",
       "    <tr>\n",
       "      <th>3</th>\n",
       "      <td>87746</td>\n",
       "      <td>Best Western Posada Freeman</td>\n",
       "      <td>1294</td>\n",
       "      <td>38820</td>\n",
       "      <td>25880</td>\n",
       "      <td>2019-06</td>\n",
       "      <td>High</td>\n",
       "    </tr>\n",
       "    <tr>\n",
       "      <th>4</th>\n",
       "      <td>87711</td>\n",
       "      <td>Best Western Pony Soldier Inn &amp; Suites</td>\n",
       "      <td>828</td>\n",
       "      <td>22356</td>\n",
       "      <td>13248</td>\n",
       "      <td>2019-12</td>\n",
       "      <td>Low</td>\n",
       "    </tr>\n",
       "  </tbody>\n",
       "</table>\n",
       "</div>"
      ],
      "text/plain": [
       "    Code                                         Hotel Name  Roomnights  \\\n",
       "0  87851  Best Western Premier Al Ahsa Grand Hotel & Suites          57   \n",
       "1  87816   Best Western Premier Airporthotel Fontane Berlin        1935   \n",
       "2  87781             Best Western Premier Agung Resort Ubud        1897   \n",
       "3  87746                        Best Western Posada Freeman        1294   \n",
       "4  87711             Best Western Pony Soldier Inn & Suites         828   \n",
       "\n",
       "    Sale   Cost     Date Roomnights Class  \n",
       "0   1140   1140  2019-01              Low  \n",
       "1  50310  38700  2019-08             High  \n",
       "2  37940  34146  2019-01             High  \n",
       "3  38820  25880  2019-06             High  \n",
       "4  22356  13248  2019-12              Low  "
      ]
     },
     "execution_count": 248,
     "metadata": {},
     "output_type": "execute_result"
    }
   ],
   "source": [
    "#Convert Date column dtype into Date Time\n",
    "df['Date']=pd.to_datetime(df['Date'])\n",
    "df['Date']=df['Date'].dt.date.apply(lambda x: x.strftime('%Y-%m'))\n",
    "df.head()"
   ]
  },
  {
   "cell_type": "code",
   "execution_count": 249,
   "metadata": {},
   "outputs": [
    {
     "data": {
      "text/html": [
       "<div>\n",
       "<style scoped>\n",
       "    .dataframe tbody tr th:only-of-type {\n",
       "        vertical-align: middle;\n",
       "    }\n",
       "\n",
       "    .dataframe tbody tr th {\n",
       "        vertical-align: top;\n",
       "    }\n",
       "\n",
       "    .dataframe thead th {\n",
       "        text-align: right;\n",
       "    }\n",
       "</style>\n",
       "<table border=\"1\" class=\"dataframe\">\n",
       "  <thead>\n",
       "    <tr style=\"text-align: right;\">\n",
       "      <th></th>\n",
       "      <th>Code</th>\n",
       "      <th>Hotel Name</th>\n",
       "      <th>Roomnights</th>\n",
       "      <th>Sale</th>\n",
       "      <th>Cost</th>\n",
       "      <th>Date</th>\n",
       "      <th>Roomnights Class</th>\n",
       "      <th>Cost of Sales</th>\n",
       "    </tr>\n",
       "  </thead>\n",
       "  <tbody>\n",
       "    <tr>\n",
       "      <th>0</th>\n",
       "      <td>87851</td>\n",
       "      <td>Best Western Premier Al Ahsa Grand Hotel &amp; Suites</td>\n",
       "      <td>57</td>\n",
       "      <td>1140</td>\n",
       "      <td>1140</td>\n",
       "      <td>2019-01</td>\n",
       "      <td>Low</td>\n",
       "      <td>0</td>\n",
       "    </tr>\n",
       "    <tr>\n",
       "      <th>1</th>\n",
       "      <td>87816</td>\n",
       "      <td>Best Western Premier Airporthotel Fontane Berlin</td>\n",
       "      <td>1935</td>\n",
       "      <td>50310</td>\n",
       "      <td>38700</td>\n",
       "      <td>2019-08</td>\n",
       "      <td>High</td>\n",
       "      <td>11610</td>\n",
       "    </tr>\n",
       "    <tr>\n",
       "      <th>2</th>\n",
       "      <td>87781</td>\n",
       "      <td>Best Western Premier Agung Resort Ubud</td>\n",
       "      <td>1897</td>\n",
       "      <td>37940</td>\n",
       "      <td>34146</td>\n",
       "      <td>2019-01</td>\n",
       "      <td>High</td>\n",
       "      <td>3794</td>\n",
       "    </tr>\n",
       "    <tr>\n",
       "      <th>3</th>\n",
       "      <td>87746</td>\n",
       "      <td>Best Western Posada Freeman</td>\n",
       "      <td>1294</td>\n",
       "      <td>38820</td>\n",
       "      <td>25880</td>\n",
       "      <td>2019-06</td>\n",
       "      <td>High</td>\n",
       "      <td>12940</td>\n",
       "    </tr>\n",
       "    <tr>\n",
       "      <th>4</th>\n",
       "      <td>87711</td>\n",
       "      <td>Best Western Pony Soldier Inn &amp; Suites</td>\n",
       "      <td>828</td>\n",
       "      <td>22356</td>\n",
       "      <td>13248</td>\n",
       "      <td>2019-12</td>\n",
       "      <td>Low</td>\n",
       "      <td>9108</td>\n",
       "    </tr>\n",
       "  </tbody>\n",
       "</table>\n",
       "</div>"
      ],
      "text/plain": [
       "    Code                                         Hotel Name  Roomnights  \\\n",
       "0  87851  Best Western Premier Al Ahsa Grand Hotel & Suites          57   \n",
       "1  87816   Best Western Premier Airporthotel Fontane Berlin        1935   \n",
       "2  87781             Best Western Premier Agung Resort Ubud        1897   \n",
       "3  87746                        Best Western Posada Freeman        1294   \n",
       "4  87711             Best Western Pony Soldier Inn & Suites         828   \n",
       "\n",
       "    Sale   Cost     Date Roomnights Class  Cost of Sales  \n",
       "0   1140   1140  2019-01              Low              0  \n",
       "1  50310  38700  2019-08             High          11610  \n",
       "2  37940  34146  2019-01             High           3794  \n",
       "3  38820  25880  2019-06             High          12940  \n",
       "4  22356  13248  2019-12              Low           9108  "
      ]
     },
     "execution_count": 249,
     "metadata": {},
     "output_type": "execute_result"
    }
   ],
   "source": [
    "df['Cost of Sales']=df['Sale']-df['Cost']\n",
    "df.head()"
   ]
  },
  {
   "cell_type": "markdown",
   "metadata": {},
   "source": [
    "### **Step3**: Analyze\n",
    "<pre><b> • Analyze data<b> </pre>\n",
    "<pre><b> • Visualize results<b> </pre>"
   ]
  },
  {
   "cell_type": "code",
   "execution_count": 250,
   "metadata": {},
   "outputs": [
    {
     "data": {
      "image/png": "[encoded data removed]",
      "text/plain": [
       "<Figure size 1152x1152 with 1 Axes>"
      ]
     },
     "metadata": {
      "needs_background": "light"
     },
     "output_type": "display_data"
    }
   ],
   "source": [
    "plt.figure(figsize=(16,16))\n",
    "sns.countplot(df['Date'])\n",
    "plt.xlabel('Date');plt.ylabel('Count');plt.title('Yearly Bookings')\n",
    "plt.show()"
   ]
  },
  {
   "cell_type": "code",
   "execution_count": 251,
   "metadata": {},
   "outputs": [
    {
     "data": {
      "image/png": "[encoded data removed]",
      "text/plain": [
       "<Figure size 1152x1152 with 1 Axes>"
      ]
     },
     "metadata": {
      "needs_background": "light"
     },
     "output_type": "display_data"
    }
   ],
   "source": [
    "plt.figure(figsize=(16,16))\n",
    "part_df=df.sort_values('Cost',ascending=False).head(10)\n",
    "sns.barplot(x=part_df['Cost'],y=part_df['Hotel Name'])\n",
    "plt.xlabel('Cost');plt.ylabel('Hotel Name')\n",
    "plt.title('Top 10 Costs')\n",
    "plt.show()"
   ]
  },
  {
   "cell_type": "code",
   "execution_count": 252,
   "metadata": {},
   "outputs": [
    {
     "data": {
      "image/png": "[encoded data removed]",
      "text/plain": [
       "<Figure size 1152x1152 with 1 Axes>"
      ]
     },
     "metadata": {
      "needs_background": "light"
     },
     "output_type": "display_data"
    }
   ],
   "source": [
    "plt.figure(figsize=(16,16))\n",
    "part_df=df.sort_values('Sale',ascending=False).head(10)\n",
    "sns.barplot(x=part_df['Sale'],y=part_df['Hotel Name'])\n",
    "plt.xlabel('Sale');plt.ylabel('Hotel Name')\n",
    "plt.title('Top 10 Sales')\n",
    "plt.show()"
   ]
  },
  {
   "cell_type": "code",
   "execution_count": 253,
   "metadata": {},
   "outputs": [
    {
     "data": {
      "image/png": "[encoded data removed]",
      "text/plain": [
       "<Figure size 1152x1152 with 1 Axes>"
      ]
     },
     "metadata": {
      "needs_background": "light"
     },
     "output_type": "display_data"
    }
   ],
   "source": [
    "plt.figure(figsize=(16,16))\n",
    "part_df=df.sort_values('Cost of Sales',ascending=False).head(10)\n",
    "sns.barplot(x=part_df['Cost of Sales'],y=part_df['Hotel Name'])\n",
    "plt.xlabel('Cost of Sales');plt.ylabel('Hotel Name')\n",
    "plt.title('Top 10 Cost of Sales')\n",
    "plt.show()"
   ]
  },
  {
   "cell_type": "code",
   "execution_count": 254,
   "metadata": {},
   "outputs": [
    {
     "data": {
      "image/png": "[encoded data removed]",
      "text/plain": [
       "<Figure size 1152x1152 with 1 Axes>"
      ]
     },
     "metadata": {
      "needs_background": "light"
     },
     "output_type": "display_data"
    }
   ],
   "source": [
    "plt.figure(figsize=(16,16))\n",
    "sns.countplot(df['Roomnights Class'])\n",
    "plt.xlabel('Roomnights Class');plt.ylabel('Count');plt.title('Roomnights Classes')\n",
    "plt.show()"
   ]
  },
  {
   "cell_type": "code",
   "execution_count": 255,
   "metadata": {},
   "outputs": [],
   "source": [
    "#Final Hotels.xlsx\n",
    "df.to_excel('Hotels Dataset.xlsx',index=False)"
   ]
  },
  {
   "cell_type": "code",
   "execution_count": null,
   "metadata": {},
   "outputs": [],
   "source": []
  },
  {
   "cell_type": "code",
   "execution_count": null,
   "metadata": {},
   "outputs": [],
   "source": []
  },
  {
   "cell_type": "code",
   "execution_count": null,
   "metadata": {},
   "outputs": [],
   "source": []
  }
 ],
 "metadata": {
  "kernelspec": {
   "display_name": "Python 3.10.5 64-bit",
   "language": "python",
   "name": "python3"
  },
  "language_info": {
   "codemirror_mode": {
    "name": "ipython",
    "version": 3
   },
   "file_extension": ".py",
   "mimetype": "text/x-python",
   "name": "python",
   "nbconvert_exporter": "python",
   "pygments_lexer": "ipython3",
   "version": "3.10.5"
  },
  "orig_nbformat": 4,
  "vscode": {
   "interpreter": {
    "hash": "d52e466cda7d84e374c198ef38904e0acd3c372c025224e78ff0d3f2eb7b76d4"
   }
  }
 },
 "nbformat": 4,
 "nbformat_minor": 2
}
